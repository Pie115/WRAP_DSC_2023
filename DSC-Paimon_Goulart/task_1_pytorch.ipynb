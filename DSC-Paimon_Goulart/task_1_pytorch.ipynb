{
 "cells": [
  {
   "attachments": {},
   "cell_type": "markdown",
   "metadata": {},
   "source": [
    "# Getting started with Task 1"
   ]
  },
  {
   "attachments": {},
   "cell_type": "markdown",
   "metadata": {},
   "source": [
    "Instructions:\n",
    "- Download the dataset from the [ECG Heartbeat Categorization Dataset](https://www.kaggle.com/datasets/shayanfazeli/heartbeat)\n",
    "- Unzip the `archive.zip` file\n",
    "- Rename the folder `archive` as `ecg_dataset` and place it in the root of the git repository"
   ]
  },
  {
   "attachments": {},
   "cell_type": "markdown",
   "metadata": {},
   "source": [
    "References:\n",
    "- [ECG Heartbeat Classification: A Deep Transferable Representation](https://arxiv.org/pdf/1805.00794.pdf)"
   ]
  },
  {
   "attachments": {},
   "cell_type": "markdown",
   "metadata": {},
   "source": [
    "## Load dependencies"
   ]
  },
  {
   "cell_type": "code",
   "execution_count": 1718,
   "metadata": {},
   "outputs": [],
   "source": [
    "import pandas as pd\n",
    "import numpy as np\n",
    "import matplotlib.pyplot as plt"
   ]
  },
  {
   "attachments": {},
   "cell_type": "markdown",
   "metadata": {},
   "source": [
    "## The PTB Diagnostic ECG Database\n",
    "\n",
    "- Number of Samples: 14552\n",
    "- Number of Categories: 2\n",
    "- Sampling Frequency: 125Hz\n",
    "- Data Source: Physionet's PTB Diagnostic Database\n",
    "- ECG lead II re-sampled to the sampling frequency of 125Hz as the input (from [ECG Heartbeat Classification: A Deep Transferable Representation](https://arxiv.org/pdf/1805.00794.pdf))\n",
    "- Remark: All the samples are cropped, downsampled and padded with zeroes if necessary to the fixed dimension of 188.\n",
    "- The final element of each row denotes the class to which that example belongs.\n"
   ]
  },
  {
   "cell_type": "code",
   "execution_count": 1719,
   "metadata": {},
   "outputs": [
    {
     "name": "stdout",
     "output_type": "stream",
     "text": [
      "The shape of the normal dataframe is :  (4046, 188)\n",
      "Class :  0.0\n",
      "The shape of the abnormal dataframe is :  (10506, 188)\n",
      "Class :  1.0\n",
      "The last time value is :  1488.0\n"
     ]
    },
    {
     "data": {
      "image/png": "[encoded data removed]",
      "text/plain": [
       "<Figure size 1000x500 with 1 Axes>"
      ]
     },
     "metadata": {},
     "output_type": "display_data"
    }
   ],
   "source": [
    "df_ptbd_normal = pd.read_csv(\"../ecg_dataset/ptbdb_normal.csv\", header = None)\n",
    "df_ptbd_abnormal = pd.read_csv(\"../ecg_dataset/ptbdb_abnormal.csv\", header = None)\n",
    "\n",
    "# print shapes of the dataframes\n",
    "print(\"The shape of the normal dataframe is : \", df_ptbd_normal.shape)\n",
    "# print one example of the last column\n",
    "print(\"Class : \", df_ptbd_normal.iloc[:, -1][0])\n",
    "print(\"The shape of the abnormal dataframe is : \", df_ptbd_abnormal.shape)\n",
    "# print one example of the last column\n",
    "print(\"Class : \", df_ptbd_abnormal.iloc[:, -1][0])\n",
    "\n",
    "# classes are 0 (normal) and 1 (abnormal)\n",
    "classes_names = {0 : \"normal\", \n",
    "                 1 : \"abnormal\"}\n",
    "\n",
    "# get the number of columns in the dataframe\n",
    "# the last column is the label/class\n",
    "num_cols = df_ptbd_normal.shape[1] - 1 \n",
    "# the signal was resampled at frequency of 125Hz as the input\n",
    "# compute the time vector\n",
    "time = np.arange(0, num_cols) / 125\n",
    "# convert to milliseconds\n",
    "time = time * 1000\n",
    "# print last time value\n",
    "print(\"The last time value is : \", time[-1])\n",
    "\n",
    "# for the first \"num_cols\" and the time steps as column names\n",
    "df_ptbd_normal.columns = list(time) + [\"label\"]\n",
    "df_ptbd_abnormal.columns = list(time) + [\"label\"]\n",
    "\n",
    "# concatenate the two dataframes\n",
    "df_ptbd = pd.concat([df_ptbd_normal, df_ptbd_abnormal], axis = 0)\n",
    "\n",
    "# count the number of samples in each class and plot a bar chart\n",
    "# change the class names to \"normal\" and \"abnormal\"\n",
    "# count the number of samples in each class\n",
    "counts = df_ptbd[\"label\"].value_counts()\n",
    "# substitute the class names: 0.0 -> normal, 1.0 -> abnormal\n",
    "counts.index = counts.index.map(classes_names)\n",
    "# create a figure \n",
    "plt.figure(figsize = (10, 5))\n",
    "# plot a bar chart\n",
    "counts.plot(kind = \"bar\")\n",
    "# plot xticks in angle\n",
    "plt.xticks(rotation = 0)\n",
    "plt.title(\"Number of samples in each class\")\n",
    "plt.show()"
   ]
  },
  {
   "cell_type": "code",
   "execution_count": 1720,
   "metadata": {},
   "outputs": [],
   "source": [
    "from sklearn.model_selection import train_test_split\n",
    "from sklearn.preprocessing import StandardScaler    \n",
    "from sklearn.metrics import confusion_matrix, classification_report\n",
    "\n",
    "x = df_ptbd.loc[:, df_ptbd.columns != \"label\"]\n",
    "y = df_ptbd.loc[:, df_ptbd.columns == \"label\"]\n",
    "\n",
    "x_train, x_test, y_train, y_test = train_test_split(x, y, test_size = 0.25, shuffle = True)\n"
   ]
  },
  {
   "cell_type": "code",
   "execution_count": 1721,
   "metadata": {},
   "outputs": [
    {
     "data": {
      "text/plain": [
       "0.0       1.000000\n",
       "8.0       0.766588\n",
       "16.0      0.673578\n",
       "24.0      0.693720\n",
       "32.0      0.536137\n",
       "            ...   \n",
       "1456.0    0.000000\n",
       "1464.0    0.000000\n",
       "1472.0    0.000000\n",
       "1480.0    0.000000\n",
       "1488.0    0.000000\n",
       "Name: 7532, Length: 187, dtype: float64"
      ]
     },
     "execution_count": 1721,
     "metadata": {},
     "output_type": "execute_result"
    }
   ],
   "source": [
    "x_train.iloc[0]"
   ]
  },
  {
   "cell_type": "code",
   "execution_count": 1722,
   "metadata": {},
   "outputs": [],
   "source": [
    "import torch\n",
    "x_train, x_test = torch.tensor(x_train.values, dtype = torch.float32),torch.tensor(x_test.values, dtype = torch.float32)\n",
    "y_train, y_test = torch.tensor(y_train.values, dtype = torch.float32),torch.tensor(y_test.values, dtype = torch.float32)"
   ]
  },
  {
   "cell_type": "code",
   "execution_count": 1723,
   "metadata": {},
   "outputs": [],
   "source": [
    "import torch.nn as nn\n",
    "class LogisticRegression(nn.Module):\n",
    "\n",
    "    def __init__(self, x, y):\n",
    "        super(LogisticRegression, self).__init__()\n",
    "        self.linear1 = nn.Linear(x, 75)\n",
    "        self.bn1 = nn.BatchNorm1d(75)  \n",
    "        self.linear2 = nn.Linear(75, 50)\n",
    "        self.bn2 = nn.BatchNorm1d(50)  \n",
    "        self.linear3 = nn.Linear(50, 25)\n",
    "        self.bn3 = nn.BatchNorm1d(25)  \n",
    "        self.linear4 = nn.Linear(25, y)\n",
    "        self.sigmoid = nn.Sigmoid()\n",
    "\n",
    "    def forward(self, x):\n",
    "        \n",
    "        m = nn.Softmax(dim = 1)\n",
    "        x = m(x)\n",
    "        x = torch.relu(self.bn1(self.linear1(x)))\n",
    "        x = torch.relu(self.bn2(self.linear2(x)))\n",
    "        x = torch.relu(self.bn3(self.linear3(x)))\n",
    "        outputs = self.sigmoid(self.linear4(x))\n",
    "        return outputs"
   ]
  },
  {
   "cell_type": "code",
   "execution_count": 1725,
   "metadata": {},
   "outputs": [],
   "source": [
    "epochs = 32\n",
    "\n",
    "input_dim = 187\n",
    "output_dim = 1\n",
    "learning_rate = 0.01\n",
    "train_loss_tens = torch.empty(epochs)\n",
    "val_loss_arr = np.zeros(epochs)\n",
    "\n",
    "model = LogisticRegression(input_dim, output_dim)\n",
    "criterion = torch.nn.BCELoss()\n",
    "optimizer = torch.optim.Adam(model.parameters(), lr = learning_rate)\n",
    "val_loss_tens = torch.zeros(epochs)\n"
   ]
  },
  {
   "cell_type": "code",
   "execution_count": 1726,
   "metadata": {},
   "outputs": [
    {
     "name": "stdout",
     "output_type": "stream",
     "text": [
      "Epoch 1 \t Training Loss: 7.03552650520578e-05 \t Validation Loss: 7.03552650520578e-05\n",
      "Epoch 2 \t Training Loss: 5.8245528634870425e-05 \t Validation Loss: 5.8245528634870425e-05\n",
      "Epoch 3 \t Training Loss: 5.2127234084764495e-05 \t Validation Loss: 5.2127234084764495e-05\n",
      "Epoch 4 \t Training Loss: 4.765259654959664e-05 \t Validation Loss: 4.765259654959664e-05\n",
      "Epoch 5 \t Training Loss: 4.402918420964852e-05 \t Validation Loss: 4.402918420964852e-05\n",
      "Epoch 6 \t Training Loss: 4.117697608307935e-05 \t Validation Loss: 4.117697608307935e-05\n",
      "Epoch 7 \t Training Loss: 3.880912845488638e-05 \t Validation Loss: 3.880912845488638e-05\n",
      "Epoch 8 \t Training Loss: 3.675474363262765e-05 \t Validation Loss: 3.675474363262765e-05\n",
      "Epoch 9 \t Training Loss: 3.512313560349867e-05 \t Validation Loss: 3.512313560349867e-05\n",
      "Epoch 10 \t Training Loss: 3.366885721334256e-05 \t Validation Loss: 3.366885721334256e-05\n",
      "Epoch 11 \t Training Loss: 3.23163767461665e-05 \t Validation Loss: 3.23163767461665e-05\n",
      "Epoch 12 \t Training Loss: 3.1109186238609254e-05 \t Validation Loss: 3.1109186238609254e-05\n",
      "Epoch 13 \t Training Loss: 2.9974256904097274e-05 \t Validation Loss: 2.9974256904097274e-05\n",
      "Epoch 14 \t Training Loss: 2.8998956622672267e-05 \t Validation Loss: 2.8998956622672267e-05\n",
      "Epoch 15 \t Training Loss: 2.7947962735197507e-05 \t Validation Loss: 2.7947962735197507e-05\n",
      "Epoch 16 \t Training Loss: 2.662438782863319e-05 \t Validation Loss: 2.662438782863319e-05\n",
      "Epoch 17 \t Training Loss: 2.52765112236375e-05 \t Validation Loss: 2.52765112236375e-05\n",
      "Epoch 18 \t Training Loss: 2.4776221835054457e-05 \t Validation Loss: 2.4776221835054457e-05\n",
      "Epoch 19 \t Training Loss: 2.4181834305636585e-05 \t Validation Loss: 2.4181834305636585e-05\n",
      "Epoch 20 \t Training Loss: 2.2276044546742924e-05 \t Validation Loss: 2.2276044546742924e-05\n",
      "Epoch 21 \t Training Loss: 2.2828080545878038e-05 \t Validation Loss: 2.2828080545878038e-05\n",
      "Epoch 22 \t Training Loss: 2.1394676878117025e-05 \t Validation Loss: 2.1394676878117025e-05\n",
      "Epoch 23 \t Training Loss: 2.0636309272958897e-05 \t Validation Loss: 2.0636309272958897e-05\n",
      "Epoch 24 \t Training Loss: 1.9571309167076834e-05 \t Validation Loss: 1.9571309167076834e-05\n",
      "Epoch 25 \t Training Loss: 1.859311669250019e-05 \t Validation Loss: 1.859311669250019e-05\n",
      "Epoch 26 \t Training Loss: 1.8061025912174955e-05 \t Validation Loss: 1.8061025912174955e-05\n",
      "Epoch 27 \t Training Loss: 1.6918684195843525e-05 \t Validation Loss: 1.6918684195843525e-05\n",
      "Epoch 28 \t Training Loss: 1.6890768165467307e-05 \t Validation Loss: 1.6890768165467307e-05\n",
      "Epoch 29 \t Training Loss: 1.5304633052437566e-05 \t Validation Loss: 1.5304633052437566e-05\n",
      "Epoch 30 \t Training Loss: 1.5148269085329957e-05 \t Validation Loss: 1.5148269085329957e-05\n",
      "Epoch 31 \t Training Loss: 1.4177931916492525e-05 \t Validation Loss: 1.4177931916492525e-05\n",
      "Epoch 32 \t Training Loss: 1.3510651115211658e-05 \t Validation Loss: 1.3510651115211658e-05\n"
     ]
    }
   ],
   "source": [
    "for epoch in range(epochs):\n",
    "    \n",
    "    count_train_loss = 0.0\n",
    "    count_val_loss = 0.0\n",
    "    \n",
    "    pred_y = model(x_train)\n",
    "    \n",
    "\n",
    "    # Compute and print loss\n",
    "    train_loss = criterion(pred_y, y_train)\n",
    "    count_train_loss+= train_loss.item()\n",
    "    train_loss_tens[epoch] = train_loss \n",
    "\n",
    "    val_loss = criterion(pred_y, y_train)\n",
    "    count_val_loss += val_loss.item()\n",
    "    val_loss_tens[epoch] = val_loss \n",
    "    \n",
    "    # Zero gradients, perform a backward pass,\n",
    "    # and update the weights.\n",
    "    optimizer.zero_grad()\n",
    "    train_loss.backward()\n",
    "    optimizer.step()\n",
    "    #print(loss)\n",
    "    print(f'Epoch {epoch + 1} \\t Training Loss: {train_loss / len(x_train)} \\t Validation Loss: {val_loss / len(x_train)}')\n",
    "    train_acc = torch.sum(pred_y == y_train)\n",
    "\n",
    "train_loss_arr = train_loss_tens.detach().numpy()"
   ]
  },
  {
   "cell_type": "code",
   "execution_count": 1727,
   "metadata": {
    "scrolled": true
   },
   "outputs": [
    {
     "data": {
      "text/plain": [
       "[<matplotlib.lines.Line2D at 0x7f892b11c2e0>]"
      ]
     },
     "execution_count": 1727,
     "metadata": {},
     "output_type": "execute_result"
    },
    {
     "data": {
      "image/png": "[encoded data removed]",
      "text/plain": [
       "<Figure size 640x480 with 1 Axes>"
      ]
     },
     "metadata": {},
     "output_type": "display_data"
    }
   ],
   "source": [
    "plt.plot(train_loss_arr, 'g')"
   ]
  },
  {
   "cell_type": "code",
   "execution_count": 1728,
   "metadata": {},
   "outputs": [
    {
     "name": "stdout",
     "output_type": "stream",
     "text": [
      "0.9323804378509521\n"
     ]
    }
   ],
   "source": [
    "with torch.no_grad():\n",
    "    prediction = model(x_test)\n",
    "    pred_class = prediction.round()\n",
    "    accuracy = (pred_class.eq(y_test).sum())/float(y_test.shape[0])\n",
    "    print(accuracy.item())\n",
    "    \n"
   ]
  },
  {
   "cell_type": "code",
   "execution_count": 1729,
   "metadata": {},
   "outputs": [],
   "source": [
    "predictions = np.array(pred_class)\n",
    "answers = np.array(y_test)\n",
    "\n",
    "truePos = 0\n",
    "falsePos = 0\n",
    "falseNeg = 0\n",
    "trueNeg = 0 \n",
    "\n",
    "for i in range(len(predictions)):\n",
    "    if(predictions[i] == 1 and answers[i] == 1):\n",
    "        truePos += 1\n",
    "    elif(predictions[i] == 1 and answers[i] == 0):\n",
    "        falsePos += 1\n",
    "    elif(predictions[i] == 0 and answers[i] == 1):\n",
    "        falseNeg += 1\n",
    "    else:\n",
    "        trueNeg += 1\n",
    "\n",
    "confusionmatrix = [[truePos, falsePos], [falseNeg, trueNeg]]\n",
    "confusionmatrix = np.array(confusionmatrix)"
   ]
  },
  {
   "cell_type": "code",
   "execution_count": 1730,
   "metadata": {},
   "outputs": [
    {
     "data": {
      "image/png": "[encoded data removed]",
      "text/plain": [
       "<Figure size 640x480 with 2 Axes>"
      ]
     },
     "metadata": {},
     "output_type": "display_data"
    }
   ],
   "source": [
    "import seaborn as sns\n",
    "\n",
    "group_names = ['True Neg','False Pos','False Neg','True Pos']\n",
    "\n",
    "group_counts = [\"{0:0.0f}\".format(value) for value in confusionmatrix.flatten()]\n",
    "group_percentages = [\"{0:.2%}\".format(value) for value in confusionmatrix.flatten()/np.sum(confusionmatrix)]\n",
    "labels = [f\"{v1}\\n{v2}\\n{v3}\" for v1, v2, v3 in zip(group_names,group_counts,group_percentages)]\n",
    "labels = np.asarray(labels).reshape(2,2)\n",
    "\n",
    "sns.heatmap(confusionmatrix, annot=labels, fmt='', cmap='Purples');"
   ]
  }
 ],
 "metadata": {
  "kernelspec": {
   "display_name": "Python 3 (ipykernel)",
   "language": "python",
   "name": "python3"
  },
  "language_info": {
   "codemirror_mode": {
    "name": "ipython",
    "version": 3
   },
   "file_extension": ".py",
   "mimetype": "text/x-python",
   "name": "python",
   "nbconvert_exporter": "python",
   "pygments_lexer": "ipython3",
   "version": "3.9.13"
  }
 },
 "nbformat": 4,
 "nbformat_minor": 4
}
