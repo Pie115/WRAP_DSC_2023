{
 "cells": [
  {
   "attachments": {},
   "cell_type": "markdown",
   "metadata": {},
   "source": [
    "# Getting started with Task 1"
   ]
  },
  {
   "attachments": {},
   "cell_type": "markdown",
   "metadata": {},
   "source": [
    "Instructions:\n",
    "- Download the dataset from the [ECG Heartbeat Categorization Dataset](https://www.kaggle.com/datasets/shayanfazeli/heartbeat)\n",
    "- Unzip the `archive.zip` file\n",
    "- Rename the folder `archive` as `ecg_dataset` and place it in the root of the git repository"
   ]
  },
  {
   "attachments": {},
   "cell_type": "markdown",
   "metadata": {},
   "source": [
    "References:\n",
    "- [ECG Heartbeat Classification: A Deep Transferable Representation](https://arxiv.org/pdf/1805.00794.pdf)"
   ]
  },
  {
   "attachments": {},
   "cell_type": "markdown",
   "metadata": {},
   "source": [
    "## Load dependencies"
   ]
  },
  {
   "cell_type": "code",
   "execution_count": 2,
   "metadata": {},
   "outputs": [],
   "source": [
    "import pandas as pd\n",
    "import numpy as np\n",
    "import matplotlib.pyplot as plt"
   ]
  },
  {
   "attachments": {},
   "cell_type": "markdown",
   "metadata": {},
   "source": [
    "## The PTB Diagnostic ECG Database\n",
    "\n",
    "- Number of Samples: 14552\n",
    "- Number of Categories: 2\n",
    "- Sampling Frequency: 125Hz\n",
    "- Data Source: Physionet's PTB Diagnostic Database\n",
    "- ECG lead II re-sampled to the sampling frequency of 125Hz as the input (from [ECG Heartbeat Classification: A Deep Transferable Representation](https://arxiv.org/pdf/1805.00794.pdf))\n",
    "- Remark: All the samples are cropped, downsampled and padded with zeroes if necessary to the fixed dimension of 188.\n",
    "- The final element of each row denotes the class to which that example belongs.\n"
   ]
  },
  {
   "cell_type": "code",
   "execution_count": 3,
   "metadata": {},
   "outputs": [
    {
     "name": "stdout",
     "output_type": "stream",
     "text": [
      "The shape of the normal dataframe is :  (4046, 188)\n",
      "Class :  0.0\n",
      "The shape of the abnormal dataframe is :  (10506, 188)\n",
      "Class :  1.0\n",
      "The last time value is :  1488.0\n"
     ]
    },
    {
     "data": {
      "image/png": "[encoded data removed]",
      "text/plain": [
       "<Figure size 1000x500 with 1 Axes>"
      ]
     },
     "metadata": {},
     "output_type": "display_data"
    }
   ],
   "source": [
    "df_ptbd_normal = pd.read_csv(\"../ecg_dataset/ptbdb_normal.csv\", header = None)\n",
    "df_ptbd_abnormal = pd.read_csv(\"../ecg_dataset/ptbdb_abnormal.csv\", header = None)\n",
    "\n",
    "# print shapes of the dataframes\n",
    "print(\"The shape of the normal dataframe is : \", df_ptbd_normal.shape)\n",
    "# print one example of the last column\n",
    "print(\"Class : \", df_ptbd_normal.iloc[:, -1][0])\n",
    "print(\"The shape of the abnormal dataframe is : \", df_ptbd_abnormal.shape)\n",
    "# print one example of the last column\n",
    "print(\"Class : \", df_ptbd_abnormal.iloc[:, -1][0])\n",
    "\n",
    "# classes are 0 (normal) and 1 (abnormal)\n",
    "classes_names = {0 : \"normal\", \n",
    "                 1 : \"abnormal\"}\n",
    "\n",
    "# get the number of columns in the dataframe\n",
    "# the last column is the label/class\n",
    "num_cols = df_ptbd_normal.shape[1] - 1 \n",
    "# the signal was resampled at frequency of 125Hz as the input\n",
    "# compute the time vector\n",
    "time = np.arange(0, num_cols) / 125\n",
    "# convert to milliseconds\n",
    "time = time * 1000\n",
    "# print last time value\n",
    "print(\"The last time value is : \", time[-1])\n",
    "\n",
    "# for the first \"num_cols\" and the time steps as column names\n",
    "df_ptbd_normal.columns = list(time) + [\"label\"]\n",
    "df_ptbd_abnormal.columns = list(time) + [\"label\"]\n",
    "\n",
    "# concatenate the two dataframes\n",
    "df_ptbd = pd.concat([df_ptbd_normal, df_ptbd_abnormal], axis = 0)\n",
    "\n",
    "# count the number of samples in each class and plot a bar chart\n",
    "# change the class names to \"normal\" and \"abnormal\"\n",
    "# count the number of samples in each class\n",
    "counts = df_ptbd[\"label\"].value_counts()\n",
    "# substitute the class names: 0.0 -> normal, 1.0 -> abnormal\n",
    "counts.index = counts.index.map(classes_names)\n",
    "# create a figure \n",
    "plt.figure(figsize = (10, 5))\n",
    "# plot a bar chart\n",
    "counts.plot(kind = \"bar\")\n",
    "# plot xticks in angle\n",
    "plt.xticks(rotation = 0)\n",
    "plt.title(\"Number of samples in each class\")\n",
    "plt.show()"
   ]
  },
  {
   "cell_type": "code",
   "execution_count": 4,
   "metadata": {},
   "outputs": [],
   "source": [
    "from sklearn.model_selection import train_test_split\n",
    "from sklearn.preprocessing import StandardScaler    \n",
    "from sklearn.metrics import confusion_matrix, classification_report\n",
    "\n",
    "x = df_ptbd.loc[:, df_ptbd.columns != \"label\"]\n",
    "y = df_ptbd.loc[:, df_ptbd.columns == \"label\"]\n",
    "\n",
    "x_train, x_test, y_train, y_test = train_test_split(x, y, test_size = 0.3, shuffle = True)\n"
   ]
  },
  {
   "cell_type": "code",
   "execution_count": 42,
   "metadata": {},
   "outputs": [
    {
     "data": {
      "text/plain": [
       "0.0       1.000000\n",
       "8.0       0.669378\n",
       "16.0      0.251322\n",
       "24.0      0.076861\n",
       "32.0      0.000000\n",
       "            ...   \n",
       "1456.0    0.000000\n",
       "1464.0    0.000000\n",
       "1472.0    0.000000\n",
       "1480.0    0.000000\n",
       "1488.0    0.000000\n",
       "Name: 5847, Length: 187, dtype: float64"
      ]
     },
     "execution_count": 42,
     "metadata": {},
     "output_type": "execute_result"
    }
   ],
   "source": [
    "x_train.iloc[0]"
   ]
  },
  {
   "cell_type": "code",
   "execution_count": 185,
   "metadata": {},
   "outputs": [],
   "source": [
    "import torch\n",
    "x_train = torch.tensor(x_train.values, dtype = torch.float32)\n",
    "x_test = torch.tensor(x_test.values, dtype = torch.float32)\n",
    "y_train, y_test = torch.tensor(y_train.values, dtype = torch.float32),torch.tensor(y_test.values, dtype = torch.float32)"
   ]
  },
  {
   "cell_type": "code",
   "execution_count": 186,
   "metadata": {},
   "outputs": [],
   "source": [
    "import torch.nn as nn"
   ]
  },
  {
   "cell_type": "code",
   "execution_count": 187,
   "metadata": {},
   "outputs": [],
   "source": [
    "class LogisticRegression(torch.nn.Module):\n",
    "\n",
    "    def __init__(self, x, y):\n",
    "        super(LogisticRegression, self).__init__()\n",
    "        self.linear1 = nn.Linear(x, 100)\n",
    "        self.linear2 = nn.Linear(100, 50)\n",
    "        self.linear3 = nn.Linear(50, y)\n",
    "\n",
    "       #self.con1d = torch.nn.Conv1d(x, y)\n",
    "\n",
    "    def forward(self, x):\n",
    "        x = torch.relu(self.linear1(x))\n",
    "        x = torch.relu(self.linear2(x))\n",
    "        x = torch.relu(self.linear3(x))\n",
    "\n",
    "\n",
    "        outputs = torch.sigmoid(x)\n",
    "        return outputs"
   ]
  },
  {
   "cell_type": "code",
   "execution_count": 188,
   "metadata": {},
   "outputs": [],
   "source": [
    "epochs = 100\n",
    "input_dim = 187\n",
    "output_dim = 1\n",
    "learning_rate = 0.1\n",
    "train_loss_tens = torch.empty(epochs)\n",
    "val_loss_arr = np.zeros(epochs)\n",
    "\n",
    "model = LogisticRegression(x = input_dim, y = output_dim)\n",
    "criterion = torch.nn.BCELoss()\n",
    "optimizer = torch.optim.SGD(model.parameters(), lr = learning_rate)"
   ]
  },
  {
   "cell_type": "code",
   "execution_count": 189,
   "metadata": {},
   "outputs": [],
   "source": [
    "for epoch in range(epochs):\n",
    "    \n",
    "    count_train_loss = 0.0\n",
    "    \n",
    "    \n",
    "    pred_y = model(x_train)\n",
    "    \n",
    "\n",
    "    # Compute and print loss\n",
    "    train_loss = criterion(pred_y, y_train)\n",
    "\n",
    "    \n",
    "    count_train_loss+= train_loss.item()\n",
    "    \n",
    "    train_loss_tens[epoch] = train_loss \n",
    "\n",
    "    # Zero gradients, perform a backward pass,\n",
    "    # and update the weights.\n",
    "    optimizer.zero_grad()\n",
    "    train_loss.backward()\n",
    "    optimizer.step()\n",
    "    #print(loss)\n",
    "    #print(f'Epoch {epoch +1} \\t\\t Training Loss: {train_loss / len(x_train)} \\t')\n",
    "        \n",
    "train_loss_arr = train_loss_tens.detach().numpy()"
   ]
  },
  {
   "cell_type": "code",
   "execution_count": 190,
   "metadata": {
    "scrolled": true
   },
   "outputs": [
    {
     "data": {
      "text/plain": [
       "[<matplotlib.lines.Line2D at 0x7feec57ba4c0>]"
      ]
     },
     "execution_count": 190,
     "metadata": {},
     "output_type": "execute_result"
    },
    {
     "data": {
      "image/png": "[encoded data removed]",
      "text/plain": [
       "<Figure size 640x480 with 1 Axes>"
      ]
     },
     "metadata": {},
     "output_type": "display_data"
    }
   ],
   "source": [
    "plt.plot(train_loss_arr, 'g')"
   ]
  },
  {
   "cell_type": "code",
   "execution_count": 191,
   "metadata": {},
   "outputs": [
    {
     "name": "stdout",
     "output_type": "stream",
     "text": [
      "0.720797061920166\n"
     ]
    }
   ],
   "source": [
    "with torch.no_grad():\n",
    "    prediction = model(x_test)\n",
    "    pred_class = prediction.round()\n",
    "    accuracy = (pred_class.eq(y_test).sum())/float(y_test.shape[0])\n",
    "    print(accuracy.item())"
   ]
  },
  {
   "cell_type": "code",
   "execution_count": null,
   "metadata": {},
   "outputs": [],
   "source": []
  }
 ],
 "metadata": {
  "kernelspec": {
   "display_name": "Python 3 (ipykernel)",
   "language": "python",
   "name": "python3"
  },
  "language_info": {
   "codemirror_mode": {
    "name": "ipython",
    "version": 3
   },
   "file_extension": ".py",
   "mimetype": "text/x-python",
   "name": "python",
   "nbconvert_exporter": "python",
   "pygments_lexer": "ipython3",
   "version": "3.9.13"
  }
 },
 "nbformat": 4,
 "nbformat_minor": 4
}
